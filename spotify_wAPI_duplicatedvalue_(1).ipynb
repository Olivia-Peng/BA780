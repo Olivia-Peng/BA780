{
  "nbformat": 4,
  "nbformat_minor": 0,
  "metadata": {
    "colab": {
      "provenance": [],
      "authorship_tag": "ABX9TyMbgahVkQG2Qq1GUgpQIuB8",
      "include_colab_link": true
    },
    "kernelspec": {
      "name": "python3",
      "display_name": "Python 3"
    },
    "language_info": {
      "name": "python"
    }
  },
  "cells": [
    {
      "cell_type": "markdown",
      "metadata": {
        "id": "view-in-github",
        "colab_type": "text"
      },
      "source": [
        "<a href=\"https://colab.research.google.com/github/Olivia-Peng/BA780_test/blob/main/spotify_wAPI_duplicatedvalue_(1).ipynb\" target=\"_parent\"><img src=\"https://colab.research.google.com/assets/colab-badge.svg\" alt=\"Open In Colab\"/></a>"
      ]
    },
    {
      "cell_type": "code",
      "execution_count": 1,
      "metadata": {
        "id": "I5gOQVkiDYKH"
      },
      "outputs": [],
      "source": [
        "import pandas as pd\n",
        "api = pd.read_csv(\"/content/Spotify_Youtube_wAPI (final).csv\")"
      ]
    },
    {
      "cell_type": "code",
      "source": [
        "# check if there are any duplicated value\n",
        "useless_data = api.duplicated(subset=[\"Artist\",\"Track\",\"Uri\"])\n",
        "\n",
        "# if yes -> drop it\n",
        "api = api[~useless_data]"
      ],
      "metadata": {
        "id": "_EV41LjuD9a_"
      },
      "execution_count": 4,
      "outputs": []
    },
    {
      "cell_type": "code",
      "source": [
        "api.drop(\"Unnamed: 0.1\",axis=1,inplace=True)"
      ],
      "metadata": {
        "id": "attUVl8eGzr3"
      },
      "execution_count": 8,
      "outputs": []
    },
    {
      "cell_type": "code",
      "source": [
        "api.set_index(\"Unnamed: 0\",inplace=True)"
      ],
      "metadata": {
        "id": "89jVXI0aD_rr"
      },
      "execution_count": 10,
      "outputs": []
    },
    {
      "cell_type": "code",
      "source": [
        "api.rename_axis(\"\")"
      ],
      "metadata": {
        "id": "dYU0BsY8FtIN"
      },
      "execution_count": null,
      "outputs": []
    },
    {
      "cell_type": "code",
      "source": [
        "api.info()"
      ],
      "metadata": {
        "colab": {
          "base_uri": "https://localhost:8080/"
        },
        "id": "mXtpbCgBHIaa",
        "outputId": "55340cb7-5c53-4236-f103-d600db176954"
      },
      "execution_count": 14,
      "outputs": [
        {
          "output_type": "stream",
          "name": "stdout",
          "text": [
            "<class 'pandas.core.frame.DataFrame'>\n",
            "Int64Index: 20718 entries, 0 to 20717\n",
            "Data columns (total 33 columns):\n",
            " #   Column             Non-Null Count  Dtype  \n",
            "---  ------             --------------  -----  \n",
            " 0   Artist             20718 non-null  object \n",
            " 1   Url_spotify        20718 non-null  object \n",
            " 2   Track              20718 non-null  object \n",
            " 3   Album              20718 non-null  object \n",
            " 4   Album_type         20718 non-null  object \n",
            " 5   Uri                20718 non-null  object \n",
            " 6   Danceability       20716 non-null  float64\n",
            " 7   Energy             20716 non-null  float64\n",
            " 8   Key                20716 non-null  float64\n",
            " 9   Loudness           20716 non-null  float64\n",
            " 10  Speechiness        20716 non-null  float64\n",
            " 11  Acousticness       20716 non-null  float64\n",
            " 12  Instrumentalness   20716 non-null  float64\n",
            " 13  Liveness           20716 non-null  float64\n",
            " 14  Valence            20716 non-null  float64\n",
            " 15  Tempo              20716 non-null  float64\n",
            " 16  Duration_ms        20716 non-null  float64\n",
            " 17  Url_youtube        20248 non-null  object \n",
            " 18  Title              20248 non-null  object \n",
            " 19  Channel            20248 non-null  object \n",
            " 20  Views              20248 non-null  float64\n",
            " 21  Likes              20177 non-null  float64\n",
            " 22  Comments           20149 non-null  float64\n",
            " 23  Description        19842 non-null  object \n",
            " 24  Licensed           20248 non-null  object \n",
            " 25  official_video     20248 non-null  object \n",
            " 26  Stream             20142 non-null  float64\n",
            " 27  Artist Popularity  20718 non-null  int64  \n",
            " 28  Track Popularity   20718 non-null  int64  \n",
            " 29  Genres             20718 non-null  object \n",
            " 30  Available Markets  20718 non-null  object \n",
            " 31  Release Date       20718 non-null  object \n",
            " 32  Followers          20718 non-null  int64  \n",
            "dtypes: float64(15), int64(3), object(15)\n",
            "memory usage: 5.4+ MB\n"
          ]
        }
      ]
    },
    {
      "cell_type": "code",
      "source": [
        "import pandas as pd\n",
        "\n",
        "api.to_csv(\"api_without_duplicates.csv\")"
      ],
      "metadata": {
        "id": "teu3b5nqJaN9"
      },
      "execution_count": 19,
      "outputs": []
    },
    {
      "cell_type": "code",
      "source": [
        "import pandas as pd\n",
        "\n",
        "kaggle = pd.read_csv(\"/content/Spotify_Youtube(original).csv\")"
      ],
      "metadata": {
        "id": "hW6wiKAQH8J2"
      },
      "execution_count": 15,
      "outputs": []
    },
    {
      "cell_type": "code",
      "source": [
        "kaggle.info()"
      ],
      "metadata": {
        "colab": {
          "base_uri": "https://localhost:8080/"
        },
        "id": "jig6wBFfICso",
        "outputId": "d7a7d72d-7116-47c0-ca59-a6f80ae556db"
      },
      "execution_count": 17,
      "outputs": [
        {
          "output_type": "stream",
          "name": "stdout",
          "text": [
            "<class 'pandas.core.frame.DataFrame'>\n",
            "RangeIndex: 20718 entries, 0 to 20717\n",
            "Data columns (total 28 columns):\n",
            " #   Column            Non-Null Count  Dtype  \n",
            "---  ------            --------------  -----  \n",
            " 0   Unnamed: 0        20718 non-null  int64  \n",
            " 1   Artist            20718 non-null  object \n",
            " 2   Url_spotify       20718 non-null  object \n",
            " 3   Track             20718 non-null  object \n",
            " 4   Album             20718 non-null  object \n",
            " 5   Album_type        20718 non-null  object \n",
            " 6   Uri               20718 non-null  object \n",
            " 7   Danceability      20716 non-null  float64\n",
            " 8   Energy            20716 non-null  float64\n",
            " 9   Key               20716 non-null  float64\n",
            " 10  Loudness          20716 non-null  float64\n",
            " 11  Speechiness       20716 non-null  float64\n",
            " 12  Acousticness      20716 non-null  float64\n",
            " 13  Instrumentalness  20716 non-null  float64\n",
            " 14  Liveness          20716 non-null  float64\n",
            " 15  Valence           20716 non-null  float64\n",
            " 16  Tempo             20716 non-null  float64\n",
            " 17  Duration_ms       20716 non-null  float64\n",
            " 18  Url_youtube       20248 non-null  object \n",
            " 19  Title             20248 non-null  object \n",
            " 20  Channel           20248 non-null  object \n",
            " 21  Views             20248 non-null  float64\n",
            " 22  Likes             20177 non-null  float64\n",
            " 23  Comments          20149 non-null  float64\n",
            " 24  Description       19842 non-null  object \n",
            " 25  Licensed          20248 non-null  object \n",
            " 26  official_video    20248 non-null  object \n",
            " 27  Stream            20142 non-null  float64\n",
            "dtypes: float64(15), int64(1), object(12)\n",
            "memory usage: 4.4+ MB\n"
          ]
        }
      ]
    },
    {
      "cell_type": "code",
      "source": [
        "set(api.columns).difference(kaggle.columns)"
      ],
      "metadata": {
        "colab": {
          "base_uri": "https://localhost:8080/"
        },
        "id": "pRSF06ufIEmo",
        "outputId": "8292a123-07d5-43dc-e82a-e545aecd9e31"
      },
      "execution_count": 18,
      "outputs": [
        {
          "output_type": "execute_result",
          "data": {
            "text/plain": [
              "{'Artist Popularity',\n",
              " 'Available Markets',\n",
              " 'Followers',\n",
              " 'Genres',\n",
              " 'Release Date',\n",
              " 'Track Popularity'}"
            ]
          },
          "metadata": {},
          "execution_count": 18
        }
      ]
    }
  ]
}